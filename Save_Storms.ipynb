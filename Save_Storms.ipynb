{
 "cells": [
  {
   "cell_type": "code",
   "execution_count": 1,
   "id": "38c81e07",
   "metadata": {},
   "outputs": [
    {
     "name": "stderr",
     "output_type": "stream",
     "text": [
      "C:\\Users\\twh1812\\AppData\\Local\\Temp\\ipykernel_36888\\2837137527.py:4: MatplotlibDeprecationWarning: The seaborn styles shipped by Matplotlib are deprecated since 3.6, as they no longer correspond to the styles shipped by seaborn. However, they will remain available as 'seaborn-v0_8-<style>'. Alternatively, directly use the seaborn API instead.\n",
      "  plt.style.use('seaborn-whitegrid')\n"
     ]
    }
   ],
   "source": [
    "import numpy as np\n",
    "import netCDF4 as nc\n",
    "import matplotlib.pyplot as plt\n",
    "plt.style.use('seaborn-whitegrid')\n",
    "import os\n",
    "trace = os.getcwd()\n",
    "os.chdir('C://Users//twh1812//documents')\n",
    "import pybuoy as pb\n",
    "os.chdir(trace)"
   ]
  },
  {
   "cell_type": "code",
   "execution_count": 2,
   "id": "686240bf",
   "metadata": {},
   "outputs": [],
   "source": [
    "u = np.load('ubot.npy')\n",
    "v = np.load('vbot.npy')\n",
    "sst = np.load('sst.npy')"
   ]
  },
  {
   "cell_type": "code",
   "execution_count": 10,
   "id": "b3d7d2cc",
   "metadata": {},
   "outputs": [],
   "source": [
    "years = [2018,2019]\n",
    "mod_stamps = pb.date_array(years,1)[:u.shape[0],0]\n",
    "\n",
    "idx_map = np.linspace(0,len(mod_stamps)-1,len(mod_stamps),dtype=int)\n",
    "start = idx_map[mod_stamps=='2019-08-29'][0]\n",
    "end = idx_map[mod_stamps=='2019-09-08'][0]\n",
    "\n",
    "mod_u   = u[start:end]\n",
    "mod_v   = v[start:end]\n",
    "mod_sst = sst[start:end]"
   ]
  },
  {
   "cell_type": "code",
   "execution_count": 12,
   "id": "c6a66666",
   "metadata": {},
   "outputs": [],
   "source": [
    "np.save('uDorian.npy',mod_u)\n",
    "np.save('vDorian.npy',mod_v)\n",
    "np.save('sstDorian.npy',mod_sst)"
   ]
  },
  {
   "cell_type": "raw",
   "id": "c5302d96",
   "metadata": {},
   "source": [
    "2020-09-25,0000"
   ]
  }
 ],
 "metadata": {
  "kernelspec": {
   "display_name": "Python 3 (ipykernel)",
   "language": "python",
   "name": "python3"
  },
  "language_info": {
   "codemirror_mode": {
    "name": "ipython",
    "version": 3
   },
   "file_extension": ".py",
   "mimetype": "text/x-python",
   "name": "python",
   "nbconvert_exporter": "python",
   "pygments_lexer": "ipython3",
   "version": "3.11.4"
  }
 },
 "nbformat": 4,
 "nbformat_minor": 5
}
