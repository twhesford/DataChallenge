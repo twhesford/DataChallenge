{
 "cells": [
  {
   "cell_type": "code",
   "execution_count": 1,
   "id": "fc283c74",
   "metadata": {},
   "outputs": [
    {
     "name": "stderr",
     "output_type": "stream",
     "text": [
      "C:\\Users\\twhes\\AppData\\Local\\Temp\\ipykernel_6316\\3574232367.py:4: MatplotlibDeprecationWarning: The seaborn styles shipped by Matplotlib are deprecated since 3.6, as they no longer correspond to the styles shipped by seaborn. However, they will remain available as 'seaborn-v0_8-<style>'. Alternatively, directly use the seaborn API instead.\n",
      "  plt.style.use('seaborn-whitegrid')\n"
     ]
    }
   ],
   "source": [
    "import numpy as np\n",
    "import pandas as pd\n",
    "import matplotlib.pyplot as plt\n",
    "plt.style.use('seaborn-whitegrid')\n",
    "import pybuoy as pb"
   ]
  },
  {
   "cell_type": "code",
   "execution_count": 2,
   "id": "13d9bb6c",
   "metadata": {},
   "outputs": [
    {
     "data": {
      "text/plain": [
       "<function pybuoy.storm_finder.storm_search(data, thresh, dur, end_thresh, end_dur)>"
      ]
     },
     "execution_count": 2,
     "metadata": {},
     "output_type": "execute_result"
    }
   ],
   "source": [
    "pb.storm_search"
   ]
  },
  {
   "cell_type": "code",
   "execution_count": null,
   "id": "7c17248a",
   "metadata": {
    "scrolled": true
   },
   "outputs": [],
   "source": [
    "med = phi2mm(3)\n",
    "strs_thresh=stress_thresh(med)\n",
    "rgh = 2.5*.001*phi2mm(1.7)\n",
    "\n",
    "strs = ob27.waves.rep_cur_stress(ob27.currents.j[0,:]\n",
    "                          ,ob27.currents.i[0,:]/100,\n",
    "                          5,30,rgh)\n",
    "# n = storm_classes\n",
    "wvstorm_table,wv_storms = pb.wvstorm_table(ob27,strs,strs_thresh,24\n",
    "                                           ,strs_thresh,12,fps,\n",
    "                                           roughness=rgh\n",
    "                                          )#,storm_names=n)"
   ]
  },
  {
   "cell_type": "code",
   "execution_count": null,
   "id": "e85f46c9",
   "metadata": {},
   "outputs": [],
   "source": [
    " buoy_box = pn.widgets.Select(name='Mooring',value = '41013',options = list(station_map.keys()))\n",
    "  dtype_box = pn.widgets.Select(name='Data Type',value = 'Sig. Wave Height',options =[lab_map[k] for k in lab_map.keys()])\n",
    "  event_box = pn.widgets.Select(name='Event',value = 'Florence',options = list(event_map.keys()))\n",
    "  \n",
    "  dash = pn.bind(disp_buoy,dtype=dtype_box,station=buoy_box,event=event_box)\n",
    "\n",
    "\n",
    "  col = pn.Column(event_box,buoy_box,dtype_box,dash).servable(target='buoy_app')"
   ]
  },
  {
   "cell_type": "code",
   "execution_count": null,
   "id": "54643fb6",
   "metadata": {},
   "outputs": [],
   "source": [
    "N_hrs = 24*365*8+24*2"
   ]
  },
  {
   "cell_type": "code",
   "execution_count": null,
   "id": "6faf8448",
   "metadata": {},
   "outputs": [],
   "source": [
    "storm_classes = np.array(pb.warner_class(ob27,wv_storms,1020,window=28))\n",
    "storm_classes[[1,5,7,8,9,13,16,18,19,23,33,40,46,51,59,61,66,71,73]] = 'low press'\n",
    "storm_classes[[34,41,43,57,74]] = 'cold'\n",
    "storm_classes[[69,72]] = 'warm'\n",
    "storm_classes[[2,45,56]] = 'unknown'\n",
    "storm_classes[:5]"
   ]
  },
  {
   "cell_type": "code",
   "execution_count": 13,
   "id": "cd829807",
   "metadata": {},
   "outputs": [
    {
     "name": "stdout",
     "output_type": "stream",
     "text": [
      "575.5194491453769 1906.0 0.02717887291809263\n",
      "371.3132443259017 1464.0 0.02087611225188227\n",
      "146.2451991488789 760.0 0.010837326032397902\n"
     ]
    }
   ],
   "source": [
    "ints = np.array(np.array(wvstorm_table)[:,3],dtype=float)\n",
    "dur = np.array(np.array(wvstorm_table)[:,2],dtype=float)\n",
    "\n",
    "for stcla in ['low press','cold','warm']:\n",
    "    print(np.nansum(ints[storm_classes==stcla]),\n",
    "          np.nansum(dur[storm_classes==stcla]),\n",
    "         np.nansum(dur[storm_classes==stcla])/N_hrs)"
   ]
  },
  {
   "cell_type": "code",
   "execution_count": 14,
   "id": "c41f6c8b",
   "metadata": {},
   "outputs": [
    {
     "data": {
      "text/html": [
       "<div>\n",
       "<style scoped>\n",
       "    .dataframe tbody tr th:only-of-type {\n",
       "        vertical-align: middle;\n",
       "    }\n",
       "\n",
       "    .dataframe tbody tr th {\n",
       "        vertical-align: top;\n",
       "    }\n",
       "\n",
       "    .dataframe thead th {\n",
       "        text-align: right;\n",
       "    }\n",
       "</style>\n",
       "<table border=\"1\" class=\"dataframe\">\n",
       "  <thead>\n",
       "    <tr style=\"text-align: right;\">\n",
       "      <th></th>\n",
       "      <th>Start Date</th>\n",
       "      <th>Storm Name</th>\n",
       "      <th>Duration (hrs)</th>\n",
       "      <th>$\\int\\tau_{wvs} dt$  (Pa h)</th>\n",
       "      <th>Max $\\tau_{wvs}$ (Pa)</th>\n",
       "      <th>Avg. $u_{br}$ (m/s)</th>\n",
       "      <th>Avg. SWH (m)</th>\n",
       "      <th>Avg. $T_p$ (s)</th>\n",
       "      <th>Avg. MWD (deg)</th>\n",
       "      <th>Avg. $\\tau_{wnd}$ (Pa)</th>\n",
       "      <th>Avg. Wind Dir. (deg)</th>\n",
       "    </tr>\n",
       "  </thead>\n",
       "  <tbody>\n",
       "    <tr>\n",
       "      <th>1</th>\n",
       "      <td>09-12-2018</td>\n",
       "      <td></td>\n",
       "      <td>120</td>\n",
       "      <td>77.34476</td>\n",
       "      <td>2.83</td>\n",
       "      <td>0.23</td>\n",
       "      <td>3.56</td>\n",
       "      <td>9.28</td>\n",
       "      <td>141.68</td>\n",
       "      <td>0.57</td>\n",
       "      <td>135.91</td>\n",
       "    </tr>\n",
       "    <tr>\n",
       "      <th>2</th>\n",
       "      <td>10-26-2012</td>\n",
       "      <td></td>\n",
       "      <td>92</td>\n",
       "      <td>54.633065</td>\n",
       "      <td>1.35</td>\n",
       "      <td>0.24</td>\n",
       "      <td>3.06</td>\n",
       "      <td>10.34</td>\n",
       "      <td>109.95</td>\n",
       "      <td>0.63</td>\n",
       "      <td>350.34</td>\n",
       "    </tr>\n",
       "    <tr>\n",
       "      <th>3</th>\n",
       "      <td>09-30-2015</td>\n",
       "      <td></td>\n",
       "      <td>177</td>\n",
       "      <td>54.200152</td>\n",
       "      <td>0.66</td>\n",
       "      <td>0.16</td>\n",
       "      <td>2.63</td>\n",
       "      <td>9.03</td>\n",
       "      <td>107.12</td>\n",
       "      <td>0.2</td>\n",
       "      <td>54.86</td>\n",
       "    </tr>\n",
       "    <tr>\n",
       "      <th>4</th>\n",
       "      <td>09-22-2017</td>\n",
       "      <td></td>\n",
       "      <td>120</td>\n",
       "      <td>50.692951</td>\n",
       "      <td>0.95</td>\n",
       "      <td>0.21</td>\n",
       "      <td>2.29</td>\n",
       "      <td>12.52</td>\n",
       "      <td>121.61</td>\n",
       "      <td>0.15</td>\n",
       "      <td>21.06</td>\n",
       "    </tr>\n",
       "    <tr>\n",
       "      <th>5</th>\n",
       "      <td>09-07-2017</td>\n",
       "      <td></td>\n",
       "      <td>133</td>\n",
       "      <td>43.651128</td>\n",
       "      <td>0.68</td>\n",
       "      <td>0.18</td>\n",
       "      <td>2.52</td>\n",
       "      <td>10.02</td>\n",
       "      <td>113.57</td>\n",
       "      <td>0.26</td>\n",
       "      <td>57.55</td>\n",
       "    </tr>\n",
       "    <tr>\n",
       "      <th>6</th>\n",
       "      <td>11-16-2019</td>\n",
       "      <td></td>\n",
       "      <td>73</td>\n",
       "      <td>40.372639</td>\n",
       "      <td>1.12</td>\n",
       "      <td>0.2</td>\n",
       "      <td>4.42</td>\n",
       "      <td>8.68</td>\n",
       "      <td>89.54</td>\n",
       "      <td>0.59</td>\n",
       "      <td>6.42</td>\n",
       "    </tr>\n",
       "    <tr>\n",
       "      <th>7</th>\n",
       "      <td>03-03-2018</td>\n",
       "      <td></td>\n",
       "      <td>123</td>\n",
       "      <td>38.479923</td>\n",
       "      <td>0.82</td>\n",
       "      <td>0.17</td>\n",
       "      <td>1.89</td>\n",
       "      <td>13.18</td>\n",
       "      <td>107.8</td>\n",
       "      <td>0.14</td>\n",
       "      <td>313.35</td>\n",
       "    </tr>\n",
       "    <tr>\n",
       "      <th>8</th>\n",
       "      <td>10-05-2016</td>\n",
       "      <td></td>\n",
       "      <td>103</td>\n",
       "      <td>33.14657</td>\n",
       "      <td>1.06</td>\n",
       "      <td>0.16</td>\n",
       "      <td>2.97</td>\n",
       "      <td>8.21</td>\n",
       "      <td>97.64</td>\n",
       "      <td>0.46</td>\n",
       "      <td>49.1</td>\n",
       "    </tr>\n",
       "    <tr>\n",
       "      <th>9</th>\n",
       "      <td>09-04-2019</td>\n",
       "      <td></td>\n",
       "      <td>53</td>\n",
       "      <td>31.532762</td>\n",
       "      <td>1.27</td>\n",
       "      <td>0.24</td>\n",
       "      <td>3.36</td>\n",
       "      <td>9.63</td>\n",
       "      <td>174.37</td>\n",
       "      <td>0.7</td>\n",
       "      <td>91.66</td>\n",
       "    </tr>\n",
       "    <tr>\n",
       "      <th>10</th>\n",
       "      <td>09-16-2017</td>\n",
       "      <td></td>\n",
       "      <td>93</td>\n",
       "      <td>27.329937</td>\n",
       "      <td>0.47</td>\n",
       "      <td>0.17</td>\n",
       "      <td>1.91</td>\n",
       "      <td>12.17</td>\n",
       "      <td>117.86</td>\n",
       "      <td>0.09</td>\n",
       "      <td>5.94</td>\n",
       "    </tr>\n",
       "  </tbody>\n",
       "</table>\n",
       "</div>"
      ],
      "text/plain": [
       "    Start Date Storm Name Duration (hrs) $\\int\\tau_{wvs} dt$  (Pa h)  \\\n",
       "1   09-12-2018                       120                    77.34476   \n",
       "2   10-26-2012                        92                   54.633065   \n",
       "3   09-30-2015                       177                   54.200152   \n",
       "4   09-22-2017                       120                   50.692951   \n",
       "5   09-07-2017                       133                   43.651128   \n",
       "6   11-16-2019                        73                   40.372639   \n",
       "7   03-03-2018                       123                   38.479923   \n",
       "8   10-05-2016                       103                    33.14657   \n",
       "9   09-04-2019                        53                   31.532762   \n",
       "10  09-16-2017                        93                   27.329937   \n",
       "\n",
       "   Max $\\tau_{wvs}$ (Pa) Avg. $u_{br}$ (m/s) Avg. SWH (m) Avg. $T_p$ (s)  \\\n",
       "1                   2.83                0.23         3.56           9.28   \n",
       "2                   1.35                0.24         3.06          10.34   \n",
       "3                   0.66                0.16         2.63           9.03   \n",
       "4                   0.95                0.21         2.29          12.52   \n",
       "5                   0.68                0.18         2.52          10.02   \n",
       "6                   1.12                 0.2         4.42           8.68   \n",
       "7                   0.82                0.17         1.89          13.18   \n",
       "8                   1.06                0.16         2.97           8.21   \n",
       "9                   1.27                0.24         3.36           9.63   \n",
       "10                  0.47                0.17         1.91          12.17   \n",
       "\n",
       "   Avg. MWD (deg) Avg. $\\tau_{wnd}$ (Pa) Avg. Wind Dir. (deg)  \n",
       "1          141.68                   0.57               135.91  \n",
       "2          109.95                   0.63               350.34  \n",
       "3          107.12                    0.2                54.86  \n",
       "4          121.61                   0.15                21.06  \n",
       "5          113.57                   0.26                57.55  \n",
       "6           89.54                   0.59                 6.42  \n",
       "7           107.8                   0.14               313.35  \n",
       "8           97.64                   0.46                 49.1  \n",
       "9          174.37                    0.7                91.66  \n",
       "10         117.86                   0.09                 5.94  "
      ]
     },
     "execution_count": 14,
     "metadata": {},
     "output_type": "execute_result"
    }
   ],
   "source": [
    "wvstorm_table[:10]"
   ]
  },
  {
   "cell_type": "code",
   "execution_count": 15,
   "id": "433f06c0",
   "metadata": {},
   "outputs": [
    {
     "data": {
      "text/plain": [
       "-0.631578947368421"
      ]
     },
     "execution_count": 15,
     "metadata": {},
     "output_type": "execute_result"
    }
   ],
   "source": [
    "(len([1,7,8,9,13,16,18,19,23,33,40,46,51,59,61,66,71,73])+5+2+3)/76 -1"
   ]
  },
  {
   "cell_type": "code",
   "execution_count": 16,
   "id": "db880370",
   "metadata": {},
   "outputs": [],
   "source": [
    "tab_data = np.array(wvstorm_table[:5])\n",
    "poster_table = np.zeros((5,6),dtype=object)\n",
    "poster_table[:,3] = np.around(np.array(tab_data[:,3],dtype=float),2)\n",
    "poster_table[:,[0,4,5]] = tab_data[:,[0,4,2]]\n",
    "classes = ['Low-Pressure','Low-Pressure','Unknown','Low-Pressure','Cold Front']\n",
    "names   = ['Hurricane Florence','Hurricane Sandy','N.A Storm Complex',\n",
    "           'Hurricane Maria','Unnamed']\n",
    "poster_table[:,1] = names\n",
    "poster_table[:,2] = classes"
   ]
  },
  {
   "cell_type": "code",
   "execution_count": 17,
   "id": "a7fe6d81",
   "metadata": {},
   "outputs": [
    {
     "data": {
      "text/html": [
       "<div>\n",
       "<style scoped>\n",
       "    .dataframe tbody tr th:only-of-type {\n",
       "        vertical-align: middle;\n",
       "    }\n",
       "\n",
       "    .dataframe tbody tr th {\n",
       "        vertical-align: top;\n",
       "    }\n",
       "\n",
       "    .dataframe thead th {\n",
       "        text-align: right;\n",
       "    }\n",
       "</style>\n",
       "<table border=\"1\" class=\"dataframe\">\n",
       "  <thead>\n",
       "    <tr style=\"text-align: right;\">\n",
       "      <th></th>\n",
       "      <th>Start Date</th>\n",
       "      <th>Storm Name</th>\n",
       "      <th>Classification</th>\n",
       "      <th>$\\int\\tau_b$dt (Pa hrs)</th>\n",
       "      <th>Peak $\\tau_b$ (Pa)</th>\n",
       "      <th>Duration (hrs)</th>\n",
       "    </tr>\n",
       "  </thead>\n",
       "  <tbody>\n",
       "    <tr>\n",
       "      <th>1</th>\n",
       "      <td>09-12-2018</td>\n",
       "      <td>Hurricane Florence</td>\n",
       "      <td>Low-Pressure</td>\n",
       "      <td>77.34</td>\n",
       "      <td>2.83</td>\n",
       "      <td>120</td>\n",
       "    </tr>\n",
       "    <tr>\n",
       "      <th>2</th>\n",
       "      <td>10-26-2012</td>\n",
       "      <td>Hurricane Sandy</td>\n",
       "      <td>Low-Pressure</td>\n",
       "      <td>54.63</td>\n",
       "      <td>1.35</td>\n",
       "      <td>92</td>\n",
       "    </tr>\n",
       "    <tr>\n",
       "      <th>3</th>\n",
       "      <td>09-30-2015</td>\n",
       "      <td>N.A Storm Complex</td>\n",
       "      <td>Unknown</td>\n",
       "      <td>54.2</td>\n",
       "      <td>0.66</td>\n",
       "      <td>177</td>\n",
       "    </tr>\n",
       "    <tr>\n",
       "      <th>4</th>\n",
       "      <td>09-22-2017</td>\n",
       "      <td>Hurricane Maria</td>\n",
       "      <td>Low-Pressure</td>\n",
       "      <td>50.69</td>\n",
       "      <td>0.95</td>\n",
       "      <td>120</td>\n",
       "    </tr>\n",
       "    <tr>\n",
       "      <th>5</th>\n",
       "      <td>09-07-2017</td>\n",
       "      <td>Unnamed</td>\n",
       "      <td>Cold Front</td>\n",
       "      <td>43.65</td>\n",
       "      <td>0.68</td>\n",
       "      <td>133</td>\n",
       "    </tr>\n",
       "  </tbody>\n",
       "</table>\n",
       "</div>"
      ],
      "text/plain": [
       "   Start Date          Storm Name Classification $\\int\\tau_b$dt (Pa hrs)  \\\n",
       "1  09-12-2018  Hurricane Florence   Low-Pressure                   77.34   \n",
       "2  10-26-2012     Hurricane Sandy   Low-Pressure                   54.63   \n",
       "3  09-30-2015   N.A Storm Complex        Unknown                    54.2   \n",
       "4  09-22-2017     Hurricane Maria   Low-Pressure                   50.69   \n",
       "5  09-07-2017             Unnamed     Cold Front                   43.65   \n",
       "\n",
       "  Peak $\\tau_b$ (Pa) Duration (hrs)  \n",
       "1               2.83            120  \n",
       "2               1.35             92  \n",
       "3               0.66            177  \n",
       "4               0.95            120  \n",
       "5               0.68            133  "
      ]
     },
     "execution_count": 17,
     "metadata": {},
     "output_type": "execute_result"
    }
   ],
   "source": [
    "df = pd.DataFrame(poster_table)\n",
    "df.columns = ['Start Date','Storm Name','Classification',\n",
    "              r'$\\int\\tau_b$dt (Pa hrs)','Peak $\\tau_b$ (Pa)','Duration (hrs)']\n",
    "df.index = np.linspace(1,5,5,dtype=int)\n",
    "df"
   ]
  },
  {
   "cell_type": "code",
   "execution_count": 18,
   "id": "66db6bb6",
   "metadata": {},
   "outputs": [
    {
     "data": {
      "image/png": "[encoded data removed]",
      "text/plain": [
       "<Figure size 720x288 with 3 Axes>"
      ]
     },
     "metadata": {},
     "output_type": "display_data"
    }
   ],
   "source": [
    "fig,ax = plt.subplots(1,3,figsize=(10,4))\n",
    "fmt = lambda stamp : stamp[6:7] + ' /' + stamp[8:10] +' '+ stamp[-2:] + ':00'\n",
    "strm = [wv_storms[0][0]-12,wv_storms[0][1]+12]\n",
    "\n",
    "length = strm[1] - strm[0]\n",
    "heights = [8,3,16]\n",
    "ylims = []\n",
    "    \n",
    "# find index for D_50 mobilization\n",
    "s = strs[strm[0]:strm[1]]\n",
    "idx_map = np.linspace(0,len(s)-1,len(s),dtype=int)\n",
    "idx_map[s>stress_thresh(phi2mm(1.7))] = -1\n",
    "start = list(idx_map).index(-1)+1\n",
    "end = len(s)-list(idx_map[::-1]).index(-1)\n",
    "\n",
    "Nticks = 6\n",
    "ticks = np.linspace(0,len(ob27.waves.swh[strm[0]:strm[1]])-1,Nticks,dtype=int)\n",
    "labs  = list(map(fmt,ob27.timestamps[strm[0]:strm[1]][ticks]))\n",
    "ylims = [7,1.2,15]\n",
    "for k in range(3):\n",
    "    ax[k].set_xticks(ticks,labels=labs,rotation = 45,fontsize=15)\n",
    "    ax[k].plot([13]*heights[k],range(heights[k]),'c--')\n",
    "    ax[k].plot([length-12]*heights[k],range(heights[k]),'c--')\n",
    "    ax[k].plot([start]*heights[k],range(heights[k]),'m--')\n",
    "    ax[k].plot([end]*heights[k],range(heights[k]),'m--')\n",
    "    ax[k].set_ylim(0,ylims[k])\n",
    "    \n",
    "    \n",
    "title_fs = 15\n",
    "ax[0].plot(ob27.waves.swh[strm[0]:strm[1]],'k.')\n",
    "ax[1].plot(ob27.currents.i[0,:][strm[0]:strm[1]]/100,'k.')\n",
    "ax[2].plot(ob27.waves.Tp[strm[0]:strm[1]],'k.')\n",
    "\n",
    "titles = [r'Sig. Wave Height (m)','Near Bottom Currents (m/s)','Peak Period (s)']\n",
    "# for i in range(3):\n",
    "#     ax[i].set_title(titles[i],fontsize=title_fs)\n",
    "    \n",
    "ytick_fs = 12\n",
    "ax[0].set_yticks(np.linspace(0,7,8),labels=np.linspace(0,7,8),fontsize=ytick_fs)\n",
    "ax[1].set_yticks(np.linspace(0,1.2,8),labels=np.around(np.linspace(0,1.2,8),1),fontsize=ytick_fs)\n",
    "ax[2].set_yticks(np.linspace(0,15,8),labels=np.around(np.linspace(0,15,8),1),fontsize=ytick_fs)\n",
    "\n",
    "\n",
    "fig.suptitle('Hurricane Florence (2018)',fontsize=21)\n",
    "fig.tight_layout()"
   ]
  },
  {
   "cell_type": "code",
   "execution_count": 181,
   "id": "28732ca9",
   "metadata": {},
   "outputs": [
    {
     "name": "stderr",
     "output_type": "stream",
     "text": [
      "C:\\Users\\twhes\\AppData\\Local\\Temp/ipykernel_10084/3385661663.py:24: MatplotlibDeprecationWarning: Auto-removal of grids by pcolor() and pcolormesh() is deprecated since 3.5 and will be removed two minor releases later; please call grid(False) first.\n",
      "  cbar = fig.colorbar(mpl.cm.ScalarMappable(norm=norm, cmap=cool),\n"
     ]
    },
    {
     "data": {
      "image/png": "[encoded data removed]",
      "text/plain": [
       "<Figure size 720x216 with 2 Axes>"
      ]
     },
     "metadata": {},
     "output_type": "display_data"
    }
   ],
   "source": [
    "fig,ax = plt.subplots(1,figsize=(10,3))\n",
    "i= 1\n",
    "cool = plt.cm.get_cmap('Reds')\n",
    "for strm in wv_storms[:-2]:\n",
    "    s = strs[strm[0]:strm[1]]\n",
    "    cmap = np.zeros_like(s)\n",
    "    cmap[s>stress_thresh(phi2mm(1.7))] = 1\n",
    "    first_non_nan = list(np.isnan(s)).index(False)\n",
    "    last = cool(s[first_non_nan])\n",
    "    t=0\n",
    "    while t < len(s):\n",
    "        if np.isnan(s[t]) == True:\n",
    "            ax.bar(i,1,bottom = t,color=last)\n",
    "            t+=1\n",
    "        else:\n",
    "            c = 'c' if cmap[t] == 0 else 'm'\n",
    "            last = cool(s[t])\n",
    "            ax.bar(i,1,bottom = t,color=cool(s[t]))\n",
    "            t+=1\n",
    "    i += 1\n",
    "    \n",
    "norm = mpl.colors.Normalize(vmin=0,vmax=np.nanmax(strs))\n",
    "\n",
    "cbar = fig.colorbar(mpl.cm.ScalarMappable(norm=norm, cmap=cool),\n",
    "                    pad=.01,\n",
    "                   )\n",
    "cbar.ax.set_yticks([0,stress_thresh(phi2mm(1.7)),1,2,np.nanmax(strs)],\n",
    "                   labels = [0,r'--$\\tau_o(D_{50})$ = 0.27',1.0,2.0,np.around(np.nanmax(strs),1)],\n",
    "                  fontsize=14)\n",
    "\n",
    "class_dict = {'warm':'r','cold':'b','low press':'g','unknown':'w'}\n",
    "for i in range(len(storm_classes[:-2])):\n",
    "    ax.bar(i+1,-15,color=class_dict[storm_classes[i]],bottom=-10,width=1)\n",
    "ax.set_yticks([0,50,100,150],labels=[0,50,100,150],fontsize=14)\n",
    "ax.set_xticks(np.linspace(0,75,16),labels=np.linspace(0,75,16,dtype=int),fontsize=14)\n",
    "ax.set_facecolor('gray')\n",
    "\n",
    "fig.savefig('Events.png',dpi=400)"
   ]
  },
  {
   "cell_type": "code",
   "execution_count": 134,
   "id": "16c8877f",
   "metadata": {},
   "outputs": [
    {
     "name": "stdout",
     "output_type": "stream",
     "text": [
      "low press 31 39.743589743589745\n",
      "warm 12 15.384615384615385\n",
      "cold 30 38.46153846153847\n",
      "unknown 3 3.8461538461538463\n"
     ]
    }
   ],
   "source": [
    "for a in ['low press','warm','cold','unknown']:\n",
    "    N = list(storm_classes[:-2]).count(a)\n",
    "    print(a,N,N/len(storm_classes)*100)"
   ]
  },
  {
   "cell_type": "code",
   "execution_count": 39,
   "id": "267119b6",
   "metadata": {},
   "outputs": [
    {
     "data": {
      "text/plain": [
       "array(['2012-01-01-00', '2012-01-01-01', '2012-01-01-02', ...,\n",
       "       '2021-12-31-21', '2021-12-31-22', '2021-12-31-23'], dtype=object)"
      ]
     },
     "execution_count": 39,
     "metadata": {},
     "output_type": "execute_result"
    }
   ],
   "source": [
    "ob27.timestamps"
   ]
  },
  {
   "cell_type": "code",
   "execution_count": 87,
   "id": "ebd81794",
   "metadata": {},
   "outputs": [
    {
     "data": {
      "image/png": "[encoded data removed]",
      "text/plain": [
       "<Figure size 360x288 with 1 Axes>"
      ]
     },
     "metadata": {},
     "output_type": "display_data"
    }
   ],
   "source": [
    "counts = {'cold':[0 for i in range(12)],\n",
    "          'warm':[0 for i in range(12)],\n",
    "          'low press':[0 for i in range(12)],\n",
    "           'unknown':[0 for i in range(12)]}\n",
    "yr_count = [0 for i in range(10)]\n",
    "fig,ax = plt.subplots(1,figsize=(5,4))\n",
    "months = list(map(lambda stamp : int(stamp[5:7]),ob27.timestamps))\n",
    "years = list(map(lambda stamp : int(stamp[2:4]),ob27.timestamps))\n",
    "labs = ['Jan','Feb','Mar','Apr','May','Jun','Jul','Aug','Sep','Oct','Nov','Dec']\n",
    "i=0\n",
    "for strm in wv_storms:\n",
    "    \n",
    "    mon = months[strm[0]]\n",
    "    yr =  years[strm[0]]\n",
    "    clas = storm_classes[i]\n",
    "    yr_count[yr-11] +=1\n",
    "    counts[clas][mon-1] +=1\n",
    "\n",
    "    i+=1\n",
    "    \n",
    "ax.bar(range(12),counts['cold'],color='b',label='C.F')\n",
    "ax.bar(range(12),counts['warm'],bottom=counts['cold'],color='r',label='W.F')\n",
    "ax.bar(range(12),counts['low press'],bottom=\n",
    "        np.array(counts['warm'])+np.array(counts['cold']),color='g',label='L.P')\n",
    "# ax.bar(range(12),counts['unknown'],bottom=\n",
    "#         np.array(counts['low press'])+np.array(counts['cold'])+np.array(counts['cold']),color='gray',label='Unknown')\n",
    "ax.legend(fontsize=14,loc='upper center')\n",
    "\n",
    "ax.set_xticks(range(12),labels=labs,fontsize=14,rotation=90);\n",
    "ax.set_yticks(np.linspace(0,10,6),labels=np.linspace(0,10,6,dtype=int),fontsize=14,rotation=0);\n",
    "\n",
    "# ax.set_title('Event Climatology',fontsize=20)\n",
    "# ax.set_ylabel('Occurrences',fontsize=15)\n",
    "fig.tight_layout()"
   ]
  },
  {
   "cell_type": "code",
   "execution_count": 124,
   "id": "2a06f0c2",
   "metadata": {},
   "outputs": [
    {
     "name": "stdout",
     "output_type": "stream",
     "text": [
      "6 2012\n",
      "12 2013\n",
      "8 2014\n",
      "9 2015\n",
      "14 2016\n",
      "6 2017\n",
      "12 2018\n",
      "11 2019\n"
     ]
    },
    {
     "data": {
      "text/plain": [
       "[<matplotlib.lines.Line2D at 0x1c21aae54e0>]"
      ]
     },
     "execution_count": 124,
     "metadata": {},
     "output_type": "execute_result"
    },
    {
     "data": {
      "image/png": "[encoded data removed]",
      "text/plain": [
       "<Figure size 432x288 with 1 Axes>"
      ]
     },
     "metadata": {},
     "output_type": "display_data"
    }
   ],
   "source": [
    "yrs = []\n",
    "for strm in wv_storms:\n",
    "    s = ob27.timestamps[strm[0]]\n",
    "    yrs.append(s[2:4])\n",
    "    \n",
    "for yr in np.linspace(12,19,8,dtype=int):\n",
    "    print(yrs.count(str(yr)),2000+yr)\n",
    "plt.plot(list(map(lambda i : yrs.count(str(i)),np.linspace(12,19,8,dtype=int))),'.')"
   ]
  },
  {
   "cell_type": "code",
   "execution_count": 76,
   "id": "0d9db11f",
   "metadata": {},
   "outputs": [
    {
     "data": {
      "text/plain": [
       "([<matplotlib.axis.XTick at 0x1c21aa79c00>,\n",
       "  <matplotlib.axis.XTick at 0x1c21aa79bd0>,\n",
       "  <matplotlib.axis.XTick at 0x1c21aa78e20>,\n",
       "  <matplotlib.axis.XTick at 0x1c21aa96530>,\n",
       "  <matplotlib.axis.XTick at 0x1c21aa96c80>],\n",
       " [Text(0.0, 0, '2012-01-01-00'),\n",
       "  Text(21918.0, 0, '2014-07-02-05'),\n",
       "  Text(43836.0, 0, '2016-12-31-11'),\n",
       "  Text(65754.0, 0, '2019-07-02-17'),\n",
       "  Text(87672.0, 0, '2021-12-31-23')])"
      ]
     },
     "execution_count": 76,
     "metadata": {},
     "output_type": "execute_result"
    },
    {
     "data": {
      "image/png": "[encoded data removed]",
      "text/plain": [
       "<Figure size 432x288 with 1 Axes>"
      ]
     },
     "metadata": {},
     "output_type": "display_data"
    }
   ],
   "source": [
    "plt.plot(ob27.waves.swh,'.')\n",
    "plt.xticks(np.linspace(0,len(ob27.waves.swh),5),labels = \n",
    "           ob27.timestamps[np.linspace(0,len(ob27.waves.swh)-1,5,dtype=int)])"
   ]
  },
  {
   "cell_type": "code",
   "execution_count": null,
   "id": "d6197f8f",
   "metadata": {},
   "outputs": [],
   "source": []
  }
 ],
 "metadata": {
  "kernelspec": {
   "display_name": "Python 3 (ipykernel)",
   "language": "python",
   "name": "python3"
  },
  "language_info": {
   "codemirror_mode": {
    "name": "ipython",
    "version": 3
   },
   "file_extension": ".py",
   "mimetype": "text/x-python",
   "name": "python",
   "nbconvert_exporter": "python",
   "pygments_lexer": "ipython3",
   "version": "3.11.4"
  }
 },
 "nbformat": 4,
 "nbformat_minor": 5
}
