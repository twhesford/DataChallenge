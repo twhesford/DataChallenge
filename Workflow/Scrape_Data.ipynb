{
 "cells": [
  {
   "cell_type": "code",
   "execution_count": 1,
   "id": "69bd7a79",
   "metadata": {},
   "outputs": [],
   "source": [
    "import numpy as np\n",
    "from OceanData import *\n",
    "import matplotlib.pyplot as plt\n",
    "import panel as pn\n",
    "import pybuoy as pb"
   ]
  },
  {
   "cell_type": "markdown",
   "id": "b5ec65e9",
   "metadata": {},
   "source": [
    "This notebook\n",
    "  1.  Collects archived SECOORA standard meterological and \n",
    "      wave frequency spectrum data with the webscraper found\n",
    "      in the pybuoy module from 2006-2022\n",
    "  2.  Creates pybuoy.Buoy data structures for each mooring and\n",
    "      saves them locally"
   ]
  },
  {
   "cell_type": "code",
   "execution_count": 2,
   "id": "05a71046",
   "metadata": {},
   "outputs": [
    {
     "data": {
      "text/plain": [
       "array([2006, 2007, 2008, 2009, 2010, 2011, 2012, 2013, 2014, 2015, 2016,\n",
       "       2017, 2018, 2019, 2020, 2021, 2022])"
      ]
     },
     "execution_count": 2,
     "metadata": {},
     "output_type": "execute_result"
    }
   ],
   "source": [
    "np.linspace(2006,2022,17,dtype=int)"
   ]
  },
  {
   "cell_type": "code",
   "execution_count": 3,
   "id": "ce28dbb1",
   "metadata": {},
   "outputs": [],
   "source": [
    "ids = ['41013','41009','41004','41025']\n",
    "fields = ['swden','stdmet']"
   ]
  },
  {
   "cell_type": "code",
   "execution_count": 4,
   "id": "f97c7e93",
   "metadata": {
    "scrolled": true
   },
   "outputs": [
    {
     "name": "stdout",
     "output_type": "stream",
     "text": [
      "https://www.ndbc.noaa.gov///view_text_file.php?filename=41013w2006.txt.gz&dir=data/historical/swden/\n",
      "https://www.ndbc.noaa.gov///view_text_file.php?filename=41013w2007.txt.gz&dir=data/historical/swden/\n",
      "https://www.ndbc.noaa.gov///view_text_file.php?filename=41013w2008.txt.gz&dir=data/historical/swden/\n",
      "https://www.ndbc.noaa.gov///view_text_file.php?filename=41013w2009.txt.gz&dir=data/historical/swden/\n",
      "https://www.ndbc.noaa.gov///view_text_file.php?filename=41013w2010.txt.gz&dir=data/historical/swden/\n",
      "https://www.ndbc.noaa.gov///view_text_file.php?filename=41013w2011.txt.gz&dir=data/historical/swden/\n",
      "https://www.ndbc.noaa.gov///view_text_file.php?filename=41013w2012.txt.gz&dir=data/historical/swden/\n",
      "https://www.ndbc.noaa.gov///view_text_file.php?filename=41013w2013.txt.gz&dir=data/historical/swden/\n",
      "https://www.ndbc.noaa.gov///view_text_file.php?filename=41013w2014.txt.gz&dir=data/historical/swden/\n",
      "https://www.ndbc.noaa.gov///view_text_file.php?filename=41013w2015.txt.gz&dir=data/historical/swden/\n",
      "https://www.ndbc.noaa.gov///view_text_file.php?filename=41013w2016.txt.gz&dir=data/historical/swden/\n",
      "https://www.ndbc.noaa.gov///view_text_file.php?filename=41013w2017.txt.gz&dir=data/historical/swden/\n",
      "https://www.ndbc.noaa.gov///view_text_file.php?filename=41013w2018.txt.gz&dir=data/historical/swden/\n",
      "https://www.ndbc.noaa.gov///view_text_file.php?filename=41013w2019.txt.gz&dir=data/historical/swden/\n",
      "https://www.ndbc.noaa.gov///view_text_file.php?filename=41013w2020.txt.gz&dir=data/historical/swden/\n",
      "https://www.ndbc.noaa.gov///view_text_file.php?filename=41013w2021.txt.gz&dir=data/historical/swden/\n",
      "https://www.ndbc.noaa.gov///view_text_file.php?filename=41013w2022.txt.gz&dir=data/historical/swden/\n",
      "https://www.ndbc.noaa.gov///view_text_file.php?filename=41013h2006.txt.gz&dir=data/historical/stdmet/\n",
      "https://www.ndbc.noaa.gov///view_text_file.php?filename=41013h2007.txt.gz&dir=data/historical/stdmet/\n",
      "https://www.ndbc.noaa.gov///view_text_file.php?filename=41013h2008.txt.gz&dir=data/historical/stdmet/\n",
      "https://www.ndbc.noaa.gov///view_text_file.php?filename=41013h2009.txt.gz&dir=data/historical/stdmet/\n",
      "https://www.ndbc.noaa.gov///view_text_file.php?filename=41013h2010.txt.gz&dir=data/historical/stdmet/\n",
      "https://www.ndbc.noaa.gov///view_text_file.php?filename=41013h2011.txt.gz&dir=data/historical/stdmet/\n",
      "https://www.ndbc.noaa.gov///view_text_file.php?filename=41013h2012.txt.gz&dir=data/historical/stdmet/\n",
      "https://www.ndbc.noaa.gov///view_text_file.php?filename=41013h2013.txt.gz&dir=data/historical/stdmet/\n",
      "https://www.ndbc.noaa.gov///view_text_file.php?filename=41013h2014.txt.gz&dir=data/historical/stdmet/\n",
      "https://www.ndbc.noaa.gov///view_text_file.php?filename=41013h2015.txt.gz&dir=data/historical/stdmet/\n",
      "https://www.ndbc.noaa.gov///view_text_file.php?filename=41013h2016.txt.gz&dir=data/historical/stdmet/\n",
      "https://www.ndbc.noaa.gov///view_text_file.php?filename=41013h2017.txt.gz&dir=data/historical/stdmet/\n",
      "https://www.ndbc.noaa.gov///view_text_file.php?filename=41013h2018.txt.gz&dir=data/historical/stdmet/\n",
      "https://www.ndbc.noaa.gov///view_text_file.php?filename=41013h2019.txt.gz&dir=data/historical/stdmet/\n",
      "https://www.ndbc.noaa.gov///view_text_file.php?filename=41013h2020.txt.gz&dir=data/historical/stdmet/\n",
      "https://www.ndbc.noaa.gov///view_text_file.php?filename=41013h2021.txt.gz&dir=data/historical/stdmet/\n",
      "https://www.ndbc.noaa.gov///view_text_file.php?filename=41013h2022.txt.gz&dir=data/historical/stdmet/\n"
     ]
    },
    {
     "name": "stderr",
     "output_type": "stream",
     "text": [
      "C:\\Users\\twhes\\Projects\\secoora_\\pybuoy\\OceanData\\make_hr.py:35: RuntimeWarning: Mean of empty slice\n",
      "  out[out_idx,1:] =  np.nanmean(data[idx:idx+step,:],axis=0)\n"
     ]
    },
    {
     "name": "stdout",
     "output_type": "stream",
     "text": [
      "no current data\n",
      "https://www.ndbc.noaa.gov///view_text_file.php?filename=41009w2006.txt.gz&dir=data/historical/swden/\n",
      "https://www.ndbc.noaa.gov///view_text_file.php?filename=41009w2007.txt.gz&dir=data/historical/swden/\n",
      "https://www.ndbc.noaa.gov///view_text_file.php?filename=41009w2008.txt.gz&dir=data/historical/swden/\n",
      "https://www.ndbc.noaa.gov///view_text_file.php?filename=41009w2009.txt.gz&dir=data/historical/swden/\n",
      "https://www.ndbc.noaa.gov///view_text_file.php?filename=41009w2010.txt.gz&dir=data/historical/swden/\n",
      "https://www.ndbc.noaa.gov///view_text_file.php?filename=41009w2011.txt.gz&dir=data/historical/swden/\n",
      "https://www.ndbc.noaa.gov///view_text_file.php?filename=41009w2012.txt.gz&dir=data/historical/swden/\n",
      "https://www.ndbc.noaa.gov///view_text_file.php?filename=41009w2013.txt.gz&dir=data/historical/swden/\n",
      "https://www.ndbc.noaa.gov///view_text_file.php?filename=41009w2014.txt.gz&dir=data/historical/swden/\n",
      "https://www.ndbc.noaa.gov///view_text_file.php?filename=41009w2015.txt.gz&dir=data/historical/swden/\n",
      "https://www.ndbc.noaa.gov///view_text_file.php?filename=41009w2016.txt.gz&dir=data/historical/swden/\n",
      "https://www.ndbc.noaa.gov///view_text_file.php?filename=41009w2017.txt.gz&dir=data/historical/swden/\n",
      "https://www.ndbc.noaa.gov///view_text_file.php?filename=41009w2018.txt.gz&dir=data/historical/swden/\n",
      "https://www.ndbc.noaa.gov///view_text_file.php?filename=41009w2019.txt.gz&dir=data/historical/swden/\n",
      "https://www.ndbc.noaa.gov///view_text_file.php?filename=41009w2020.txt.gz&dir=data/historical/swden/\n",
      "https://www.ndbc.noaa.gov///view_text_file.php?filename=41009w2021.txt.gz&dir=data/historical/swden/\n",
      "https://www.ndbc.noaa.gov///view_text_file.php?filename=41009w2022.txt.gz&dir=data/historical/swden/\n",
      "https://www.ndbc.noaa.gov///view_text_file.php?filename=41009h2006.txt.gz&dir=data/historical/stdmet/\n",
      "https://www.ndbc.noaa.gov///view_text_file.php?filename=41009h2007.txt.gz&dir=data/historical/stdmet/\n",
      "https://www.ndbc.noaa.gov///view_text_file.php?filename=41009h2008.txt.gz&dir=data/historical/stdmet/\n",
      "https://www.ndbc.noaa.gov///view_text_file.php?filename=41009h2009.txt.gz&dir=data/historical/stdmet/\n",
      "https://www.ndbc.noaa.gov///view_text_file.php?filename=41009h2010.txt.gz&dir=data/historical/stdmet/\n",
      "https://www.ndbc.noaa.gov///view_text_file.php?filename=41009h2011.txt.gz&dir=data/historical/stdmet/\n",
      "https://www.ndbc.noaa.gov///view_text_file.php?filename=41009h2012.txt.gz&dir=data/historical/stdmet/\n",
      "https://www.ndbc.noaa.gov///view_text_file.php?filename=41009h2013.txt.gz&dir=data/historical/stdmet/\n",
      "https://www.ndbc.noaa.gov///view_text_file.php?filename=41009h2014.txt.gz&dir=data/historical/stdmet/\n",
      "https://www.ndbc.noaa.gov///view_text_file.php?filename=41009h2015.txt.gz&dir=data/historical/stdmet/\n",
      "https://www.ndbc.noaa.gov///view_text_file.php?filename=41009h2016.txt.gz&dir=data/historical/stdmet/\n",
      "https://www.ndbc.noaa.gov///view_text_file.php?filename=41009h2017.txt.gz&dir=data/historical/stdmet/\n",
      "https://www.ndbc.noaa.gov///view_text_file.php?filename=41009h2018.txt.gz&dir=data/historical/stdmet/\n",
      "https://www.ndbc.noaa.gov///view_text_file.php?filename=41009h2019.txt.gz&dir=data/historical/stdmet/\n",
      "https://www.ndbc.noaa.gov///view_text_file.php?filename=41009h2020.txt.gz&dir=data/historical/stdmet/\n",
      "https://www.ndbc.noaa.gov///view_text_file.php?filename=41009h2021.txt.gz&dir=data/historical/stdmet/\n",
      "https://www.ndbc.noaa.gov///view_text_file.php?filename=41009h2022.txt.gz&dir=data/historical/stdmet/\n",
      "no current data\n",
      "https://www.ndbc.noaa.gov///view_text_file.php?filename=41004w2006.txt.gz&dir=data/historical/swden/\n",
      "https://www.ndbc.noaa.gov///view_text_file.php?filename=41004w2007.txt.gz&dir=data/historical/swden/\n",
      "https://www.ndbc.noaa.gov///view_text_file.php?filename=41004w2008.txt.gz&dir=data/historical/swden/\n",
      "https://www.ndbc.noaa.gov///view_text_file.php?filename=41004w2009.txt.gz&dir=data/historical/swden/\n",
      "https://www.ndbc.noaa.gov///view_text_file.php?filename=41004w2010.txt.gz&dir=data/historical/swden/\n",
      "https://www.ndbc.noaa.gov///view_text_file.php?filename=41004w2011.txt.gz&dir=data/historical/swden/\n",
      "https://www.ndbc.noaa.gov///view_text_file.php?filename=41004w2012.txt.gz&dir=data/historical/swden/\n",
      "https://www.ndbc.noaa.gov///view_text_file.php?filename=41004w2014.txt.gz&dir=data/historical/swden/\n",
      "https://www.ndbc.noaa.gov///view_text_file.php?filename=41004w2015.txt.gz&dir=data/historical/swden/\n",
      "https://www.ndbc.noaa.gov///view_text_file.php?filename=41004w2016.txt.gz&dir=data/historical/swden/\n",
      "https://www.ndbc.noaa.gov///view_text_file.php?filename=41004w2017.txt.gz&dir=data/historical/swden/\n",
      "https://www.ndbc.noaa.gov///view_text_file.php?filename=41004w2018.txt.gz&dir=data/historical/swden/\n",
      "https://www.ndbc.noaa.gov///view_text_file.php?filename=41004w2019.txt.gz&dir=data/historical/swden/\n",
      "https://www.ndbc.noaa.gov///view_text_file.php?filename=41004w2020.txt.gz&dir=data/historical/swden/\n",
      "https://www.ndbc.noaa.gov///view_text_file.php?filename=41004w2021.txt.gz&dir=data/historical/swden/\n",
      "https://www.ndbc.noaa.gov///view_text_file.php?filename=41004w2022.txt.gz&dir=data/historical/swden/\n",
      "https://www.ndbc.noaa.gov///view_text_file.php?filename=41004h2006.txt.gz&dir=data/historical/stdmet/\n",
      "https://www.ndbc.noaa.gov///view_text_file.php?filename=41004h2007.txt.gz&dir=data/historical/stdmet/\n",
      "https://www.ndbc.noaa.gov///view_text_file.php?filename=41004h2008.txt.gz&dir=data/historical/stdmet/\n",
      "https://www.ndbc.noaa.gov///view_text_file.php?filename=41004h2009.txt.gz&dir=data/historical/stdmet/\n",
      "https://www.ndbc.noaa.gov///view_text_file.php?filename=41004h2010.txt.gz&dir=data/historical/stdmet/\n",
      "https://www.ndbc.noaa.gov///view_text_file.php?filename=41004h2011.txt.gz&dir=data/historical/stdmet/\n",
      "https://www.ndbc.noaa.gov///view_text_file.php?filename=41004h2012.txt.gz&dir=data/historical/stdmet/\n",
      "https://www.ndbc.noaa.gov///view_text_file.php?filename=41004h2014.txt.gz&dir=data/historical/stdmet/\n",
      "https://www.ndbc.noaa.gov///view_text_file.php?filename=41004h2015.txt.gz&dir=data/historical/stdmet/\n",
      "https://www.ndbc.noaa.gov///view_text_file.php?filename=41004h2016.txt.gz&dir=data/historical/stdmet/\n",
      "https://www.ndbc.noaa.gov///view_text_file.php?filename=41004h2017.txt.gz&dir=data/historical/stdmet/\n",
      "https://www.ndbc.noaa.gov///view_text_file.php?filename=41004h2018.txt.gz&dir=data/historical/stdmet/\n",
      "https://www.ndbc.noaa.gov///view_text_file.php?filename=41004h2019.txt.gz&dir=data/historical/stdmet/\n",
      "https://www.ndbc.noaa.gov///view_text_file.php?filename=41004h2020.txt.gz&dir=data/historical/stdmet/\n",
      "https://www.ndbc.noaa.gov///view_text_file.php?filename=41004h2021.txt.gz&dir=data/historical/stdmet/\n",
      "https://www.ndbc.noaa.gov///view_text_file.php?filename=41004h2022.txt.gz&dir=data/historical/stdmet/\n",
      "no current data\n",
      "https://www.ndbc.noaa.gov///view_text_file.php?filename=41025w2006.txt.gz&dir=data/historical/swden/\n",
      "https://www.ndbc.noaa.gov///view_text_file.php?filename=41025w2007.txt.gz&dir=data/historical/swden/\n",
      "https://www.ndbc.noaa.gov///view_text_file.php?filename=41025w2008.txt.gz&dir=data/historical/swden/\n",
      "https://www.ndbc.noaa.gov///view_text_file.php?filename=41025w2009.txt.gz&dir=data/historical/swden/\n",
      "https://www.ndbc.noaa.gov///view_text_file.php?filename=41025w2010.txt.gz&dir=data/historical/swden/\n",
      "https://www.ndbc.noaa.gov///view_text_file.php?filename=41025w2011.txt.gz&dir=data/historical/swden/\n",
      "https://www.ndbc.noaa.gov///view_text_file.php?filename=41025w2012.txt.gz&dir=data/historical/swden/\n",
      "https://www.ndbc.noaa.gov///view_text_file.php?filename=41025w2013.txt.gz&dir=data/historical/swden/\n",
      "https://www.ndbc.noaa.gov///view_text_file.php?filename=41025w2014.txt.gz&dir=data/historical/swden/\n",
      "https://www.ndbc.noaa.gov///view_text_file.php?filename=41025w2015.txt.gz&dir=data/historical/swden/\n",
      "https://www.ndbc.noaa.gov///view_text_file.php?filename=41025w2016.txt.gz&dir=data/historical/swden/\n",
      "https://www.ndbc.noaa.gov///view_text_file.php?filename=41025w2017.txt.gz&dir=data/historical/swden/\n",
      "https://www.ndbc.noaa.gov///view_text_file.php?filename=41025w2018.txt.gz&dir=data/historical/swden/\n",
      "https://www.ndbc.noaa.gov///view_text_file.php?filename=41025w2019.txt.gz&dir=data/historical/swden/\n",
      "https://www.ndbc.noaa.gov///view_text_file.php?filename=41025w2020.txt.gz&dir=data/historical/swden/\n"
     ]
    },
    {
     "name": "stdout",
     "output_type": "stream",
     "text": [
      "https://www.ndbc.noaa.gov///view_text_file.php?filename=41025w2021.txt.gz&dir=data/historical/swden/\n",
      "https://www.ndbc.noaa.gov///view_text_file.php?filename=41025w2022.txt.gz&dir=data/historical/swden/\n",
      "https://www.ndbc.noaa.gov///view_text_file.php?filename=41025h2006.txt.gz&dir=data/historical/stdmet/\n",
      "https://www.ndbc.noaa.gov///view_text_file.php?filename=41025h2007.txt.gz&dir=data/historical/stdmet/\n",
      "https://www.ndbc.noaa.gov///view_text_file.php?filename=41025h2008.txt.gz&dir=data/historical/stdmet/\n",
      "https://www.ndbc.noaa.gov///view_text_file.php?filename=41025h2009.txt.gz&dir=data/historical/stdmet/\n",
      "https://www.ndbc.noaa.gov///view_text_file.php?filename=41025h2010.txt.gz&dir=data/historical/stdmet/\n",
      "https://www.ndbc.noaa.gov///view_text_file.php?filename=41025h2011.txt.gz&dir=data/historical/stdmet/\n",
      "https://www.ndbc.noaa.gov///view_text_file.php?filename=41025h2012.txt.gz&dir=data/historical/stdmet/\n",
      "https://www.ndbc.noaa.gov///view_text_file.php?filename=41025h2013.txt.gz&dir=data/historical/stdmet/\n",
      "https://www.ndbc.noaa.gov///view_text_file.php?filename=41025h2014.txt.gz&dir=data/historical/stdmet/\n",
      "https://www.ndbc.noaa.gov///view_text_file.php?filename=41025h2015.txt.gz&dir=data/historical/stdmet/\n",
      "https://www.ndbc.noaa.gov///view_text_file.php?filename=41025h2016.txt.gz&dir=data/historical/stdmet/\n",
      "https://www.ndbc.noaa.gov///view_text_file.php?filename=41025h2017.txt.gz&dir=data/historical/stdmet/\n",
      "https://www.ndbc.noaa.gov///view_text_file.php?filename=41025h2018.txt.gz&dir=data/historical/stdmet/\n",
      "https://www.ndbc.noaa.gov///view_text_file.php?filename=41025h2019.txt.gz&dir=data/historical/stdmet/\n",
      "https://www.ndbc.noaa.gov///view_text_file.php?filename=41025h2020.txt.gz&dir=data/historical/stdmet/\n",
      "https://www.ndbc.noaa.gov///view_text_file.php?filename=41025h2021.txt.gz&dir=data/historical/stdmet/\n",
      "https://www.ndbc.noaa.gov///view_text_file.php?filename=41025h2022.txt.gz&dir=data/historical/stdmet/\n",
      "no current data\n"
     ]
    }
   ],
   "source": [
    "for id_ in ids:\n",
    "    station = pb.NDBC(id_)\n",
    "    years = np.linspace(2006,2022,17,dtype=int)\n",
    "    buoy = pb.Buoy()\n",
    "    \n",
    "    buoy = station.NDBC_to_Buoy(buoy,fields,years,printlink=True)\n",
    "    \n",
    "    buoy.savebuoy('NDBC' + id_)"
   ]
  }
 ],
 "metadata": {
  "kernelspec": {
   "display_name": "Python 3 (ipykernel)",
   "language": "python",
   "name": "python3"
  },
  "language_info": {
   "codemirror_mode": {
    "name": "ipython",
    "version": 3
   },
   "file_extension": ".py",
   "mimetype": "text/x-python",
   "name": "python",
   "nbconvert_exporter": "python",
   "pygments_lexer": "ipython3",
   "version": "3.11.4"
  }
 },
 "nbformat": 4,
 "nbformat_minor": 5
}
