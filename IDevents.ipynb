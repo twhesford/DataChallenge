{
 "cells": [
  {
   "cell_type": "code",
   "execution_count": 1,
   "id": "c3ed2b98",
   "metadata": {},
   "outputs": [],
   "source": [
    "import numpy as np \n",
    "import matplotlib.pyplot as plt\n",
    "import pybuoy as pb"
   ]
  },
  {
   "cell_type": "code",
   "execution_count": 2,
   "id": "250c379a",
   "metadata": {},
   "outputs": [],
   "source": [
    "def phi2mm(phi_units):\n",
    "    return 10**(-phi_units/3.322)\n",
    "def stress_thresh(D,grain_den = 2650,fluid_den=1025):\n",
    "    D_s = D*np.cbrt(9.81*((grain_den/fluid_den)-1)/((9.37e-7)**2))\n",
    "    mob_const = .3/(1+1.2*D_s) + .055*(1-np.exp(-.02*D_s))\n",
    "    return (grain_den-fluid_den)*9.81*(D*.001)*mob_const"
   ]
  },
  {
   "cell_type": "code",
   "execution_count": 3,
   "id": "fe67d45c",
   "metadata": {},
   "outputs": [],
   "source": [
    "ids = ['41013','41009','41004','41025']\n",
    "depths = [33,42,35,48]\n",
    "med = phi2mm(3)\n",
    "strs_thresh=stress_thresh(med)\n",
    "rgh = 2.5*.001*phi2mm(1.7)\n",
    "\n",
    "fbins = np.array([.0200,.0325,.0375,.0425,.0475,.0525,.0575,.0625,.0675,.0725,.0775,.0825,.0875,.0925,.1000,.1100,.1200,.1300,.1400,.1500,.1600,.1700,.1800,.1900,.2000,.2100,.2200,.2300,.2400,.2500,.2600,.2700,.2800,.2900,.3000,.3100,.3200,.3300,.3400,.3500,.3650,.3850,.4050,.4250,.4450,.4650,.4850])"
   ]
  },
  {
   "cell_type": "code",
   "execution_count": 4,
   "id": "b31d997b",
   "metadata": {},
   "outputs": [
    {
     "name": "stdout",
     "output_type": "stream",
     "text": [
      "no currents data\n",
      "bad dirs in 41013\n"
     ]
    },
    {
     "name": "stderr",
     "output_type": "stream",
     "text": [
      "C:\\Users\\twhes\\Projects\\secoora_\\pybuoy\\WaveClass.py:234: RuntimeWarning: invalid value encountered in divide\n",
      "  T_br = 1/(np.nansum(f*df*self.spec,axis=ax)/np.nansum(df*self.spec,axis=ax))\n"
     ]
    },
    {
     "name": "stdout",
     "output_type": "stream",
     "text": [
      "158 157\n",
      "no currents data\n"
     ]
    },
    {
     "name": "stderr",
     "output_type": "stream",
     "text": [
      "C:\\Users\\twhes\\Projects\\secoora_\\pybuoy\\storm_finder.py:121: RuntimeWarning: Mean of empty slice\n",
      "  storm_mean = lambda storm,data : np.nanmean(data[storm[0]:storm[1]])\n",
      "C:\\Users\\twhes\\Projects\\secoora_\\pybuoy\\storm_finder.py:116: RuntimeWarning: Mean of empty slice\n",
      "  x = np.nanmean(np.cos(traj))\n",
      "C:\\Users\\twhes\\Projects\\secoora_\\pybuoy\\storm_finder.py:117: RuntimeWarning: Mean of empty slice\n",
      "  y = np.nanmean(np.sin(traj))\n",
      "C:\\Users\\twhes\\Projects\\secoora_\\pybuoy\\WaveClass.py:234: RuntimeWarning: invalid value encountered in divide\n",
      "  T_br = 1/(np.nansum(f*df*self.spec,axis=ax)/np.nansum(df*self.spec,axis=ax))\n"
     ]
    },
    {
     "name": "stdout",
     "output_type": "stream",
     "text": [
      "197 195\n",
      "no currents data\n"
     ]
    },
    {
     "name": "stderr",
     "output_type": "stream",
     "text": [
      "C:\\Users\\twhes\\Projects\\secoora_\\pybuoy\\storm_finder.py:116: RuntimeWarning: Mean of empty slice\n",
      "  x = np.nanmean(np.cos(traj))\n",
      "C:\\Users\\twhes\\Projects\\secoora_\\pybuoy\\storm_finder.py:117: RuntimeWarning: Mean of empty slice\n",
      "  y = np.nanmean(np.sin(traj))\n",
      "C:\\Users\\twhes\\Projects\\secoora_\\pybuoy\\storm_finder.py:121: RuntimeWarning: Mean of empty slice\n",
      "  storm_mean = lambda storm,data : np.nanmean(data[storm[0]:storm[1]])\n",
      "C:\\Users\\twhes\\Projects\\secoora_\\pybuoy\\WaveClass.py:234: RuntimeWarning: invalid value encountered in divide\n",
      "  T_br = 1/(np.nansum(f*df*self.spec,axis=ax)/np.nansum(df*self.spec,axis=ax))\n"
     ]
    },
    {
     "name": "stdout",
     "output_type": "stream",
     "text": [
      "128 127\n"
     ]
    },
    {
     "name": "stderr",
     "output_type": "stream",
     "text": [
      "C:\\Users\\twhes\\Projects\\secoora_\\pybuoy\\storm_finder.py:116: RuntimeWarning: Mean of empty slice\n",
      "  x = np.nanmean(np.cos(traj))\n",
      "C:\\Users\\twhes\\Projects\\secoora_\\pybuoy\\storm_finder.py:117: RuntimeWarning: Mean of empty slice\n",
      "  y = np.nanmean(np.sin(traj))\n",
      "C:\\Users\\twhes\\Projects\\secoora_\\pybuoy\\storm_finder.py:121: RuntimeWarning: Mean of empty slice\n",
      "  storm_mean = lambda storm,data : np.nanmean(data[storm[0]:storm[1]])\n"
     ]
    },
    {
     "name": "stdout",
     "output_type": "stream",
     "text": [
      "no currents data\n"
     ]
    },
    {
     "name": "stderr",
     "output_type": "stream",
     "text": [
      "C:\\Users\\twhes\\Projects\\secoora_\\pybuoy\\WaveClass.py:234: RuntimeWarning: invalid value encountered in divide\n",
      "  T_br = 1/(np.nansum(f*df*self.spec,axis=ax)/np.nansum(df*self.spec,axis=ax))\n"
     ]
    },
    {
     "name": "stdout",
     "output_type": "stream",
     "text": [
      "235 234\n"
     ]
    },
    {
     "name": "stderr",
     "output_type": "stream",
     "text": [
      "C:\\Users\\twhes\\Projects\\secoora_\\pybuoy\\storm_finder.py:116: RuntimeWarning: Mean of empty slice\n",
      "  x = np.nanmean(np.cos(traj))\n",
      "C:\\Users\\twhes\\Projects\\secoora_\\pybuoy\\storm_finder.py:117: RuntimeWarning: Mean of empty slice\n",
      "  y = np.nanmean(np.sin(traj))\n",
      "C:\\Users\\twhes\\Projects\\secoora_\\pybuoy\\storm_finder.py:121: RuntimeWarning: Mean of empty slice\n",
      "  storm_mean = lambda storm,data : np.nanmean(data[storm[0]:storm[1]])\n"
     ]
    }
   ],
   "source": [
    "for id_,h in zip(ids,depths):\n",
    "    b = pb.Buoy()\n",
    "    b.readbuoy('NDBC'+ id_)\n",
    "    if np.any(b.waves.j>360)  or np.any(b.wind.j>360):\n",
    "        print('bad dirs in {}'.format(id_))\n",
    "        b.waves.j[b.waves.j>360] = np.nan\n",
    "        b.wind.j[b.wind.j>360] = np.nan\n",
    "    \n",
    "    b.waves.fbins = fbins\n",
    "    \n",
    "    \n",
    "    strs,fw = b.waves.bottom_stress(33,rgh)\n",
    "\n",
    "    wvstorm_table,wv_storms = pb.wvstorm_table(b,\n",
    "                                           strs,\n",
    "                                           strs_thresh,\n",
    "                                           24,\n",
    "                                           strs_thresh,\n",
    "                                           24,\n",
    "                                           b,\n",
    "                                           roughness=rgh,\n",
    "                                           Nstorms=10)#,storm_names=n)\n",
    "    \n",
    "    \n",
    "    \n",
    "    np.savetxt(id_+'evnts.txt',wv_storms[:10],delimiter=',')\n",
    "    \n",
    "    "
   ]
  },
  {
   "cell_type": "code",
   "execution_count": null,
   "id": "32d5baa2",
   "metadata": {},
   "outputs": [],
   "source": []
  }
 ],
 "metadata": {
  "kernelspec": {
   "display_name": "Python 3 (ipykernel)",
   "language": "python",
   "name": "python3"
  },
  "language_info": {
   "codemirror_mode": {
    "name": "ipython",
    "version": 3
   },
   "file_extension": ".py",
   "mimetype": "text/x-python",
   "name": "python",
   "nbconvert_exporter": "python",
   "pygments_lexer": "ipython3",
   "version": "3.11.4"
  }
 },
 "nbformat": 4,
 "nbformat_minor": 5
}
